{
  "nbformat": 4,
  "nbformat_minor": 0,
  "metadata": {
    "colab": {
      "name": "ultralytics/YOLOv3",
      "version": "0.3.2",
      "provenance": [],
      "private_outputs": true,
      "collapsed_sections": [],
      "include_colab_link": true
    },
    "kernelspec": {
      "name": "python3",
      "display_name": "Python 3"
    },
    "accelerator": "GPU"
  },
  "cells": [
    {
      "cell_type": "markdown",
      "metadata": {
        "id": "view-in-github",
        "colab_type": "text"
      },
      "source": [
        "<a href=\"https://colab.research.google.com/github/Evolverive/CountSemiprimes/blob/master/ultralytics_YOLOv3.ipynb\" target=\"_parent\"><img src=\"https://colab.research.google.com/assets/colab-badge.svg\" alt=\"Open In Colab\"/></a>"
      ]
    },
    {
      "cell_type": "markdown",
      "metadata": {
        "colab_type": "text",
        "id": "HvhYZrIZCEyo"
      },
      "source": [
        "<img src=\"https://storage.googleapis.com/ultralytics/logo/logoname1000.png\" width=\"150\">\n",
        "\n",
        "This notebook contains software developed by Ultralytics LLC, and **is freely available for redistribution under the GPL-3.0 license**. For more information please visit https://github.com/ultralytics/yolov3 and www.ultralytics.com.\n",
        "\n",
        "\n",
        "\n"
      ]
    },
    {
      "cell_type": "code",
      "metadata": {
        "colab_type": "code",
        "id": "e5ylFIvlCEym",
        "colab": {}
      },
      "source": [
        "# Import\n",
        "import time\n",
        "import glob\n",
        "import torch\n",
        "import os\n",
        "\n",
        "from IPython.display import clear_output\n",
        "from google.colab import files\n",
        "from google.colab import drive\n",
        "print(torch.__version__, torch.cuda.get_device_properties(0))"
      ],
      "execution_count": 0,
      "outputs": []
    },
    {
      "cell_type": "code",
      "metadata": {
        "colab_type": "code",
        "id": "tIFv0p1TCEyj",
        "colab": {}
      },
      "source": [
        "# Install\n",
        "t = time.time()\n",
        "!rm -rf yolov3 weights coco cocoapi apex\n",
        "!git clone https://github.com/ultralytics/yolov3\n",
        "!git clone https://github.com/cocodataset/cocoapi && cd cocoapi/PythonAPI && make && cd ../.. && cp -r cocoapi/PythonAPI/pycocotools yolov3\n",
        "!git clone https://github.com/NVIDIA/apex && cd apex && pip install -v --no-cache-dir --global-option=\"--cpp_ext\" --global-option=\"--cuda_ext\" . --user && cd .. && rm -rf apex\n",
        "!bash yolov3/data/get_coco_dataset_gdrive.sh  # copy COCO2014 dataset (20GB)\n",
        "%cd yolov3\n",
        "clear_output(); print('Done (%.2fs)' % (time.time() - t))"
      ],
      "execution_count": 0,
      "outputs": []
    },
    {
      "cell_type": "code",
      "metadata": {
        "id": "zR9ZbuQCH7FX",
        "colab_type": "code",
        "colab": {}
      },
      "source": [
        "# Detect\n",
        "!python3 detect.py  # detect 2 persons, 1 tie"
      ],
      "execution_count": 0,
      "outputs": []
    },
    {
      "cell_type": "code",
      "metadata": {
        "id": "Mupsoa0lzSPo",
        "colab_type": "code",
        "colab": {}
      },
      "source": [
        "# Train\n",
        "!python3 train.py --data data/coco_64img.data --img-size 320 --single-scale --epochs 10 --batch-size 32 --accumulate 2 --giou"
      ],
      "execution_count": 0,
      "outputs": []
    },
    {
      "cell_type": "code",
      "metadata": {
        "id": "9bVTcveIOzDd",
        "colab_type": "code",
        "colab": {}
      },
      "source": [
        "%cd ..  # change directory"
      ],
      "execution_count": 0,
      "outputs": []
    },
    {
      "cell_type": "code",
      "metadata": {
        "colab_type": "code",
        "id": "odMr0JFnCEyb",
        "colab": {}
      },
      "source": [
        "!ls  # see files"
      ],
      "execution_count": 0,
      "outputs": []
    },
    {
      "cell_type": "code",
      "metadata": {
        "colab_type": "code",
        "id": "PuiIE5wACEyN",
        "colab": {}
      },
      "source": [
        "# Reproduce mAP\n",
        "!python3 test.py --save-json --img-size 608\n",
        "!python3 test.py --save-json --img-size 416\n",
        "!python3 test.py --save-json --img-size 320"
      ],
      "execution_count": 0,
      "outputs": []
    },
    {
      "cell_type": "code",
      "metadata": {
        "colab_type": "code",
        "id": "uB3v5hj_CEyI",
        "colab": {}
      },
      "source": [
        "# Unit Tests\n",
        "!python3 detect.py  # detect 2 persons, 1 tie\n",
        "!python3 test.py --data data/coco_32img.data  # test mAP = 0.8\n",
        "!python3 train.py --data data/coco_32img.data --epochs 4 --nosave  # train 4 epochs"
      ],
      "execution_count": 0,
      "outputs": []
    },
    {
      "cell_type": "code",
      "metadata": {
        "colab_type": "code",
        "id": "LA9qqd_NCEyB",
        "colab": {}
      },
      "source": [
        "# Reproduce Tutorials\n",
        "!python3 train.py --nosave --data data/coco_64img.data && mv results.txt results4_64img.txt\n",
        "!python3 -c \"from utils import utils; utils.plot_results()\"\n",
        "[files.download(f) for f in glob.glob('results*.*')]"
      ],
      "execution_count": 0,
      "outputs": []
    },
    {
      "cell_type": "code",
      "metadata": {
        "colab_type": "code",
        "id": "6D0si0TNCEx5",
        "colab": {}
      },
      "source": [
        "# Evolve Hyperparameters\n",
        "!python3 train.py --data data/coco_100img.data --evolve"
      ],
      "execution_count": 0,
      "outputs": []
    },
    {
      "cell_type": "code",
      "metadata": {
        "colab_type": "code",
        "id": "JGI1Q-4UCExz",
        "colab": {}
      },
      "source": [
        "# Plot Results\n",
        "!python3 -c \"from utils import utils; utils.plot_results()\"\n",
        "[files.download(f) for f in glob.glob('results*.*')]"
      ],
      "execution_count": 0,
      "outputs": []
    },
    {
      "cell_type": "code",
      "metadata": {
        "id": "J1ACZifxkqWz",
        "colab_type": "code",
        "colab": {}
      },
      "source": [
        "# Darknet ----------------------------------------------------------------------\n",
        "# Copy dataset\n",
        "!rm -rf supermarket2 && cp -r 'gdrive/My Drive/cloud/data/supermarket2' .  # from drive\n",
        "# !gsutil cp -r gs://sm6/supermarket2 .  # from bucket\n",
        "\n",
        "# Install Darknet\n",
        "!rm -rf darknet && git clone https://github.com/AlexeyAB/darknet \n",
        "%cd darknet \n",
        "!wget -c https://pjreddie.com/media/files/darknet53.conv.74  # sudo apt install libopencv-dev && make\n",
        "!cp -r '../gdrive/My Drive/cloud/darknet/cfg/.' ../ # from drive\n",
        "!cp '../gdrive/My Drive/cloud/darknet/Makefile' . && make\n",
        "clear_output();\n",
        "\n",
        "# Train\n",
        "!./darknet detector train ../supermarket2/supermarket2.data ../yolov3-spp-sm2-1cls-scalexy.cfg darknet53.conv.74 -map -dont_show # train spp\n",
        "!cp -r backup/*5000.weights '../gdrive/My Drive/cloud/darknet'"
      ],
      "execution_count": 0,
      "outputs": []
    },
    {
      "cell_type": "code",
      "metadata": {
        "id": "hhQOvD24cqqh",
        "colab_type": "code",
        "colab": {}
      },
      "source": [
        "!gsutil cp yolov3/train.py gs://yolov4"
      ],
      "execution_count": 0,
      "outputs": []
    }
  ]
}